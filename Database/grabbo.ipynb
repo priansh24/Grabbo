{
 "cells": [
  {
   "cell_type": "code",
   "execution_count": 1,
   "id": "5348d277",
   "metadata": {},
   "outputs": [],
   "source": [
    "import mysql.connector"
   ]
  },
  {
   "cell_type": "code",
   "execution_count": 10,
   "id": "5694a398",
   "metadata": {},
   "outputs": [
    {
     "name": "stdout",
     "output_type": "stream",
     "text": [
      "Error: 1049 (42000): Unknown database 'grabbo'\n"
     ]
    }
   ],
   "source": [
    "try:\n",
    "    conn = mysql.connector.connect(\n",
    "        user=\"root\", #enter your username\n",
    "        password=\"yagay1901\", #enter your mysql pass\n",
    "        database=\"grabbo\" #enter database name\n",
    "    )\n",
    "except Exception as e:\n",
    "    print(\"Error:\", str(e)) \n",
    "\n",
    "cursor = conn.cursor()"
   ]
  },
  {
   "cell_type": "markdown",
   "id": "8868b427",
   "metadata": {},
   "source": [
    "|ID|NAME|QUANTITY|CLASS|SUB-CLASS|\n",
    "|--|----|--------|-----|---------|\n",
    "|abc|Amul Chaas|56|Liquid|Buttermilk|\n",
    "|bca|Amul Cold Coffee|32|Liquid|Flavoured Milk|\n",
    "|cab|Amul Paneer|10|Solid|Cheese|"
   ]
  },
  {
   "cell_type": "code",
   "execution_count": 2,
   "id": "dddbfef4",
   "metadata": {},
   "outputs": [],
   "source": [
    "data = ((\"\", \"\", \"\", \"\", \"\"), \n",
    "       (\"\", \"\", \"\", \"\", \"\"), \n",
    "       (\"\", \"\", \"\", \"\", \"\"), \n",
    "       (\"\", \"\", \"\", \"\", \"\"), \n",
    "       (\"\", \"\", \"\", \"\", \"\"))"
   ]
  },
  {
   "cell_type": "code",
   "execution_count": null,
   "id": "0c346070",
   "metadata": {},
   "outputs": [],
   "source": [
    "def insertIntoTable(table_name, data):\n",
    "    query = f\"INSERT INTO {table_name} VALUES (%s, %s, %s, %s, %s)\"\n",
    "    cursor.execute(query, data)\n",
    "    conn.commit()\n",
    "    \n",
    "table_name = \"\"\n",
    "for i in data:\n",
    "    insertIntoTable(table_name, i)\n",
    "print(\"Updated %s column successfully.\", table_name)"
   ]
  }
 ],
 "metadata": {
  "kernelspec": {
   "display_name": "Python 3 (ipykernel)",
   "language": "python",
   "name": "python3"
  },
  "language_info": {
   "codemirror_mode": {
    "name": "ipython",
    "version": 3
   },
   "file_extension": ".py",
   "mimetype": "text/x-python",
   "name": "python",
   "nbconvert_exporter": "python",
   "pygments_lexer": "ipython3",
   "version": "3.10.11"
  }
 },
 "nbformat": 4,
 "nbformat_minor": 5
}
